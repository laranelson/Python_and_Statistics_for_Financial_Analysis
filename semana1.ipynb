{
 "cells": [
  {
   "cell_type": "code",
   "execution_count": 33,
   "id": "cfe0ea7e",
   "metadata": {},
   "outputs": [],
   "source": [
    "import pandas as pd\n",
    "import yfinance as yf\n",
    "import pandas_datareader as web\n",
    "import matplotlib.pyplot as plt\n",
    "%matplotlib inline"
   ]
  },
  {
   "cell_type": "code",
   "execution_count": 34,
   "id": "e3aa392e",
   "metadata": {},
   "outputs": [],
   "source": [
    "# Obtenção de dados da Apple\n",
    "aapl = web.get_data_yahoo(\"AAPL\")"
   ]
  },
  {
   "cell_type": "code",
   "execution_count": 35,
   "id": "aed26dc0",
   "metadata": {},
   "outputs": [
    {
     "name": "stdout",
     "output_type": "stream",
     "text": [
      "33.95750045776367\n"
     ]
    }
   ],
   "source": [
    "print(aapl.iloc[0, 0])"
   ]
  },
  {
   "cell_type": "code",
   "execution_count": 36,
   "id": "a9ee1587",
   "metadata": {},
   "outputs": [
    {
     "data": {
      "text/html": [
       "<div>\n",
       "<style scoped>\n",
       "    .dataframe tbody tr th:only-of-type {\n",
       "        vertical-align: middle;\n",
       "    }\n",
       "\n",
       "    .dataframe tbody tr th {\n",
       "        vertical-align: top;\n",
       "    }\n",
       "\n",
       "    .dataframe thead th {\n",
       "        text-align: right;\n",
       "    }\n",
       "</style>\n",
       "<table border=\"1\" class=\"dataframe\">\n",
       "  <thead>\n",
       "    <tr style=\"text-align: right;\">\n",
       "      <th></th>\n",
       "      <th>High</th>\n",
       "      <th>Low</th>\n",
       "      <th>Open</th>\n",
       "      <th>Close</th>\n",
       "      <th>Volume</th>\n",
       "      <th>Adj Close</th>\n",
       "    </tr>\n",
       "    <tr>\n",
       "      <th>Date</th>\n",
       "      <th></th>\n",
       "      <th></th>\n",
       "      <th></th>\n",
       "      <th></th>\n",
       "      <th></th>\n",
       "      <th></th>\n",
       "    </tr>\n",
       "  </thead>\n",
       "  <tbody>\n",
       "    <tr>\n",
       "      <th>2017-02-17</th>\n",
       "      <td>33.957500</td>\n",
       "      <td>33.775002</td>\n",
       "      <td>33.775002</td>\n",
       "      <td>33.930000</td>\n",
       "      <td>88792800.0</td>\n",
       "      <td>32.035347</td>\n",
       "    </tr>\n",
       "    <tr>\n",
       "      <th>2017-02-21</th>\n",
       "      <td>34.187500</td>\n",
       "      <td>33.994999</td>\n",
       "      <td>34.057499</td>\n",
       "      <td>34.174999</td>\n",
       "      <td>98028800.0</td>\n",
       "      <td>32.266670</td>\n",
       "    </tr>\n",
       "    <tr>\n",
       "      <th>2017-02-22</th>\n",
       "      <td>34.279999</td>\n",
       "      <td>34.027500</td>\n",
       "      <td>34.107498</td>\n",
       "      <td>34.277500</td>\n",
       "      <td>83347600.0</td>\n",
       "      <td>32.363438</td>\n",
       "    </tr>\n",
       "    <tr>\n",
       "      <th>2017-02-23</th>\n",
       "      <td>34.369999</td>\n",
       "      <td>34.075001</td>\n",
       "      <td>34.345001</td>\n",
       "      <td>34.132500</td>\n",
       "      <td>83152800.0</td>\n",
       "      <td>32.226536</td>\n",
       "    </tr>\n",
       "    <tr>\n",
       "      <th>2017-02-24</th>\n",
       "      <td>34.165001</td>\n",
       "      <td>33.820000</td>\n",
       "      <td>33.977501</td>\n",
       "      <td>34.165001</td>\n",
       "      <td>87106400.0</td>\n",
       "      <td>32.257221</td>\n",
       "    </tr>\n",
       "  </tbody>\n",
       "</table>\n",
       "</div>"
      ],
      "text/plain": [
       "                 High        Low       Open      Close      Volume  Adj Close\n",
       "Date                                                                         \n",
       "2017-02-17  33.957500  33.775002  33.775002  33.930000  88792800.0  32.035347\n",
       "2017-02-21  34.187500  33.994999  34.057499  34.174999  98028800.0  32.266670\n",
       "2017-02-22  34.279999  34.027500  34.107498  34.277500  83347600.0  32.363438\n",
       "2017-02-23  34.369999  34.075001  34.345001  34.132500  83152800.0  32.226536\n",
       "2017-02-24  34.165001  33.820000  33.977501  34.165001  87106400.0  32.257221"
      ]
     },
     "execution_count": 36,
     "metadata": {},
     "output_type": "execute_result"
    }
   ],
   "source": [
    "aapl.head()"
   ]
  },
  {
   "cell_type": "code",
   "execution_count": 37,
   "id": "7d2b3c44",
   "metadata": {},
   "outputs": [
    {
     "data": {
      "text/html": [
       "<div>\n",
       "<style scoped>\n",
       "    .dataframe tbody tr th:only-of-type {\n",
       "        vertical-align: middle;\n",
       "    }\n",
       "\n",
       "    .dataframe tbody tr th {\n",
       "        vertical-align: top;\n",
       "    }\n",
       "\n",
       "    .dataframe thead th {\n",
       "        text-align: right;\n",
       "    }\n",
       "</style>\n",
       "<table border=\"1\" class=\"dataframe\">\n",
       "  <thead>\n",
       "    <tr style=\"text-align: right;\">\n",
       "      <th></th>\n",
       "      <th>High</th>\n",
       "      <th>Low</th>\n",
       "      <th>Open</th>\n",
       "      <th>Close</th>\n",
       "      <th>Volume</th>\n",
       "      <th>Adj Close</th>\n",
       "    </tr>\n",
       "    <tr>\n",
       "      <th>Date</th>\n",
       "      <th></th>\n",
       "      <th></th>\n",
       "      <th></th>\n",
       "      <th></th>\n",
       "      <th></th>\n",
       "      <th></th>\n",
       "    </tr>\n",
       "  </thead>\n",
       "  <tbody>\n",
       "    <tr>\n",
       "      <th>2022-02-10</th>\n",
       "      <td>175.479996</td>\n",
       "      <td>171.550003</td>\n",
       "      <td>174.139999</td>\n",
       "      <td>172.119995</td>\n",
       "      <td>90865900.0</td>\n",
       "      <td>172.119995</td>\n",
       "    </tr>\n",
       "    <tr>\n",
       "      <th>2022-02-11</th>\n",
       "      <td>173.080002</td>\n",
       "      <td>168.039993</td>\n",
       "      <td>172.330002</td>\n",
       "      <td>168.639999</td>\n",
       "      <td>98566000.0</td>\n",
       "      <td>168.639999</td>\n",
       "    </tr>\n",
       "    <tr>\n",
       "      <th>2022-02-14</th>\n",
       "      <td>169.580002</td>\n",
       "      <td>166.559998</td>\n",
       "      <td>167.369995</td>\n",
       "      <td>168.880005</td>\n",
       "      <td>86062800.0</td>\n",
       "      <td>168.880005</td>\n",
       "    </tr>\n",
       "    <tr>\n",
       "      <th>2022-02-15</th>\n",
       "      <td>172.949997</td>\n",
       "      <td>170.250000</td>\n",
       "      <td>170.970001</td>\n",
       "      <td>172.789993</td>\n",
       "      <td>64286300.0</td>\n",
       "      <td>172.789993</td>\n",
       "    </tr>\n",
       "    <tr>\n",
       "      <th>2022-02-16</th>\n",
       "      <td>173.335007</td>\n",
       "      <td>170.050003</td>\n",
       "      <td>171.850006</td>\n",
       "      <td>173.184998</td>\n",
       "      <td>43556329.0</td>\n",
       "      <td>173.184998</td>\n",
       "    </tr>\n",
       "  </tbody>\n",
       "</table>\n",
       "</div>"
      ],
      "text/plain": [
       "                  High         Low        Open       Close      Volume  \\\n",
       "Date                                                                     \n",
       "2022-02-10  175.479996  171.550003  174.139999  172.119995  90865900.0   \n",
       "2022-02-11  173.080002  168.039993  172.330002  168.639999  98566000.0   \n",
       "2022-02-14  169.580002  166.559998  167.369995  168.880005  86062800.0   \n",
       "2022-02-15  172.949997  170.250000  170.970001  172.789993  64286300.0   \n",
       "2022-02-16  173.335007  170.050003  171.850006  173.184998  43556329.0   \n",
       "\n",
       "             Adj Close  \n",
       "Date                    \n",
       "2022-02-10  172.119995  \n",
       "2022-02-11  168.639999  \n",
       "2022-02-14  168.880005  \n",
       "2022-02-15  172.789993  \n",
       "2022-02-16  173.184998  "
      ]
     },
     "execution_count": 37,
     "metadata": {},
     "output_type": "execute_result"
    }
   ],
   "source": [
    "aapl.tail()"
   ]
  },
  {
   "cell_type": "code",
   "execution_count": 38,
   "id": "c8b92266",
   "metadata": {},
   "outputs": [
    {
     "data": {
      "text/plain": [
       "(1259, 6)"
      ]
     },
     "execution_count": 38,
     "metadata": {},
     "output_type": "execute_result"
    }
   ],
   "source": [
    "# quantidade de linhas e colunas do dataframe\n",
    "aapl.shape"
   ]
  },
  {
   "cell_type": "code",
   "execution_count": 39,
   "id": "f4de3e88",
   "metadata": {},
   "outputs": [
    {
     "data": {
      "text/html": [
       "<div>\n",
       "<style scoped>\n",
       "    .dataframe tbody tr th:only-of-type {\n",
       "        vertical-align: middle;\n",
       "    }\n",
       "\n",
       "    .dataframe tbody tr th {\n",
       "        vertical-align: top;\n",
       "    }\n",
       "\n",
       "    .dataframe thead th {\n",
       "        text-align: right;\n",
       "    }\n",
       "</style>\n",
       "<table border=\"1\" class=\"dataframe\">\n",
       "  <thead>\n",
       "    <tr style=\"text-align: right;\">\n",
       "      <th></th>\n",
       "      <th>High</th>\n",
       "      <th>Low</th>\n",
       "      <th>Open</th>\n",
       "      <th>Close</th>\n",
       "      <th>Volume</th>\n",
       "      <th>Adj Close</th>\n",
       "    </tr>\n",
       "  </thead>\n",
       "  <tbody>\n",
       "    <tr>\n",
       "      <th>count</th>\n",
       "      <td>1259.000000</td>\n",
       "      <td>1259.000000</td>\n",
       "      <td>1259.000000</td>\n",
       "      <td>1259.000000</td>\n",
       "      <td>1.259000e+03</td>\n",
       "      <td>1259.000000</td>\n",
       "    </tr>\n",
       "    <tr>\n",
       "      <th>mean</th>\n",
       "      <td>79.090935</td>\n",
       "      <td>77.400024</td>\n",
       "      <td>78.228402</td>\n",
       "      <td>78.284321</td>\n",
       "      <td>1.202933e+08</td>\n",
       "      <td>77.053129</td>\n",
       "    </tr>\n",
       "    <tr>\n",
       "      <th>std</th>\n",
       "      <td>43.269216</td>\n",
       "      <td>42.225298</td>\n",
       "      <td>42.750123</td>\n",
       "      <td>42.767658</td>\n",
       "      <td>5.553652e+07</td>\n",
       "      <td>43.230603</td>\n",
       "    </tr>\n",
       "    <tr>\n",
       "      <th>min</th>\n",
       "      <td>33.957500</td>\n",
       "      <td>33.775002</td>\n",
       "      <td>33.775002</td>\n",
       "      <td>33.930000</td>\n",
       "      <td>4.100000e+07</td>\n",
       "      <td>32.035347</td>\n",
       "    </tr>\n",
       "    <tr>\n",
       "      <th>25%</th>\n",
       "      <td>43.779999</td>\n",
       "      <td>43.217501</td>\n",
       "      <td>43.520000</td>\n",
       "      <td>43.561251</td>\n",
       "      <td>8.345415e+07</td>\n",
       "      <td>41.786488</td>\n",
       "    </tr>\n",
       "    <tr>\n",
       "      <th>50%</th>\n",
       "      <td>55.747501</td>\n",
       "      <td>54.482498</td>\n",
       "      <td>55.237499</td>\n",
       "      <td>55.257500</td>\n",
       "      <td>1.053580e+08</td>\n",
       "      <td>53.675632</td>\n",
       "    </tr>\n",
       "    <tr>\n",
       "      <th>75%</th>\n",
       "      <td>121.800003</td>\n",
       "      <td>118.834999</td>\n",
       "      <td>120.340000</td>\n",
       "      <td>120.415001</td>\n",
       "      <td>1.406456e+08</td>\n",
       "      <td>119.515808</td>\n",
       "    </tr>\n",
       "    <tr>\n",
       "      <th>max</th>\n",
       "      <td>182.940002</td>\n",
       "      <td>179.119995</td>\n",
       "      <td>182.630005</td>\n",
       "      <td>182.009995</td>\n",
       "      <td>4.265100e+08</td>\n",
       "      <td>181.778397</td>\n",
       "    </tr>\n",
       "  </tbody>\n",
       "</table>\n",
       "</div>"
      ],
      "text/plain": [
       "              High          Low         Open        Close        Volume  \\\n",
       "count  1259.000000  1259.000000  1259.000000  1259.000000  1.259000e+03   \n",
       "mean     79.090935    77.400024    78.228402    78.284321  1.202933e+08   \n",
       "std      43.269216    42.225298    42.750123    42.767658  5.553652e+07   \n",
       "min      33.957500    33.775002    33.775002    33.930000  4.100000e+07   \n",
       "25%      43.779999    43.217501    43.520000    43.561251  8.345415e+07   \n",
       "50%      55.747501    54.482498    55.237499    55.257500  1.053580e+08   \n",
       "75%     121.800003   118.834999   120.340000   120.415001  1.406456e+08   \n",
       "max     182.940002   179.119995   182.630005   182.009995  4.265100e+08   \n",
       "\n",
       "         Adj Close  \n",
       "count  1259.000000  \n",
       "mean     77.053129  \n",
       "std      43.230603  \n",
       "min      32.035347  \n",
       "25%      41.786488  \n",
       "50%      53.675632  \n",
       "75%     119.515808  \n",
       "max     181.778397  "
      ]
     },
     "execution_count": 39,
     "metadata": {},
     "output_type": "execute_result"
    }
   ],
   "source": [
    "# Show summary statistics of a DataFrame\n",
    "aapl.describe()"
   ]
  },
  {
   "cell_type": "code",
   "execution_count": 46,
   "id": "39457b47",
   "metadata": {},
   "outputs": [],
   "source": [
    "# select all the price information of Apple in 2018.\n",
    "aapl_2018 = aapl.loc['2018-01-01':'2018-12-31']"
   ]
  },
  {
   "cell_type": "code",
   "execution_count": 51,
   "id": "397db225",
   "metadata": {},
   "outputs": [
    {
     "name": "stdout",
     "output_type": "stream",
     "text": [
      "43.07500076293945\n"
     ]
    }
   ],
   "source": [
    "# print the opening price of the first row\n",
    "print(aapl_2018.iloc[0, 0])"
   ]
  },
  {
   "cell_type": "code",
   "execution_count": 52,
   "id": "1bcd48a2",
   "metadata": {},
   "outputs": [
    {
     "name": "stdout",
     "output_type": "stream",
     "text": [
      "39.84000015258789\n"
     ]
    }
   ],
   "source": [
    "# print the opening price of the last row\n",
    "print(aapl_2018.iloc[-1, 0])"
   ]
  },
  {
   "cell_type": "code",
   "execution_count": 54,
   "id": "bd030664",
   "metadata": {},
   "outputs": [
    {
     "data": {
      "text/plain": [
       "<AxesSubplot:xlabel='Date'>"
      ]
     },
     "execution_count": 54,
     "metadata": {},
     "output_type": "execute_result"
    },
    {
     "data": {
      "image/png": "[encoded data removed]",
      "text/plain": [
       "<Figure size 720x576 with 1 Axes>"
      ]
     },
     "metadata": {
      "needs_background": "light"
     },
     "output_type": "display_data"
    }
   ],
   "source": [
    "plt.figure(figsize=(10, 8))\n",
    "aapl.loc['2018-01-01':'2018-12-31', 'Close'].plot()\n",
    "aapl.loc['2019-01-01':'2019-12-31', 'Close'].plot()\n",
    "aapl.loc['2020-01-01':'2020-12-31', 'Close'].plot()\n",
    "aapl.loc['2021-01-01':'2021-12-31', 'Close'].plot()"
   ]
  },
  {
   "cell_type": "code",
   "execution_count": 55,
   "id": "016f39d1",
   "metadata": {},
   "outputs": [],
   "source": [
    "#Create a new column PriceDiff in the DataFrame aapl\n",
    "aapl['PriceDiff'] = aapl['Close'].shift(-1) - aapl['Close']"
   ]
  },
  {
   "cell_type": "code",
   "execution_count": 58,
   "id": "84d78500",
   "metadata": {},
   "outputs": [
    {
     "data": {
      "text/plain": [
       "-0.16249847412109375"
      ]
     },
     "execution_count": 58,
     "metadata": {},
     "output_type": "execute_result"
    }
   ],
   "source": [
    "#Run this code to display the price difference of Apple on 2018-01-05\n",
    "aapl['PriceDiff'].loc['2018-01-05']"
   ]
  },
  {
   "cell_type": "code",
   "execution_count": 59,
   "id": "ecc196f4",
   "metadata": {},
   "outputs": [],
   "source": [
    "#Create a new column Return in the DataFrame aapl\n",
    "aapl['Return'] = aapl['PriceDiff'] / aapl['Close']"
   ]
  },
  {
   "cell_type": "code",
   "execution_count": 60,
   "id": "0b52f90d",
   "metadata": {},
   "outputs": [
    {
     "name": "stdout",
     "output_type": "stream",
     "text": [
      "-0.0037142508370535715\n"
     ]
    }
   ],
   "source": [
    "#Run this code to print the return on 2018-01-05\n",
    "print(aapl['Return'].loc['2018-01-05'])"
   ]
  },
  {
   "cell_type": "code",
   "execution_count": 61,
   "id": "96900886",
   "metadata": {},
   "outputs": [],
   "source": [
    "#Create a new column Direction. \n",
    "#The List Comprehension means : if the price difference is larger than 0, denote as 1, otherwise, denote as 0,\n",
    "#for every record in the DataFrame - fb\n",
    "\n",
    "aapl['Direction'] = [1 if aapl['PriceDiff'].loc[ei] > 0 else 0 for ei in aapl.index ]"
   ]
  },
  {
   "cell_type": "code",
   "execution_count": 62,
   "id": "e8fac6f5",
   "metadata": {},
   "outputs": [
    {
     "name": "stdout",
     "output_type": "stream",
     "text": [
      "Price difference on 2018-01-05 is -0.16249847412109375. direction is 0\n"
     ]
    }
   ],
   "source": [
    "# Run the following code to show the price difference on 2018-01-05\n",
    "print('Price difference on {} is {}. direction is {}'.format('2018-01-05', aapl['PriceDiff'].loc['2018-01-05'], aapl['Direction'].loc['2018-01-05']))"
   ]
  },
  {
   "cell_type": "code",
   "execution_count": 64,
   "id": "b938f994",
   "metadata": {},
   "outputs": [
    {
     "data": {
      "image/png": "[encoded data removed]",
      "text/plain": [
       "<Figure size 720x576 with 1 Axes>"
      ]
     },
     "metadata": {
      "needs_background": "light"
     },
     "output_type": "display_data"
    }
   ],
   "source": [
    "aapl['ma50'] = aapl['Close'].rolling(50).mean()\n",
    "\n",
    "#plot the moving average\n",
    "plt.figure(figsize=(10, 8))\n",
    "aapl['ma50'].loc['2018-01-01':'2018-12-31'].plot(label='MA50')\n",
    "aapl['Close'].loc['2018-01-01':'2018-12-31'].plot(label='Close')\n",
    "plt.legend()\n",
    "plt.show()"
   ]
  },
  {
   "cell_type": "code",
   "execution_count": 65,
   "id": "38477f73",
   "metadata": {},
   "outputs": [
    {
     "data": {
      "image/png": "[encoded data removed]",
      "text/plain": [
       "<Figure size 720x576 with 1 Axes>"
      ]
     },
     "metadata": {
      "needs_background": "light"
     },
     "output_type": "display_data"
    }
   ],
   "source": [
    "aapl['ma60'] = aapl['Close'].rolling(50).mean()\n",
    "\n",
    "#plot the moving average\n",
    "plt.figure(figsize=(10, 8))\n",
    "aapl['ma60'].loc['2018-01-01':'2018-12-31'].plot(label='MA60')\n",
    "aapl['Close'].loc['2018-01-01':'2018-12-31'].plot(label='Close')\n",
    "plt.legend()\n",
    "plt.show()"
   ]
  },
  {
   "cell_type": "markdown",
   "id": "8d9ad3b7",
   "metadata": {},
   "source": [
    "### 1. Munging the stock data and add two columns - MA10 and MA50"
   ]
  },
  {
   "cell_type": "code",
   "execution_count": null,
   "id": "3f2f185e",
   "metadata": {},
   "outputs": [],
   "source": [
    "# Obtenção de dados da Apple\n",
    "\n",
    "aapl = web.get_data_yahoo(\"AAPL\")\n",
    "\n",
    "#import Apple stock data, add two columns - MA10 and MA50\n",
    "\n",
    "#use dropna to remove any \"Not a Number\" data\n",
    "\n",
    "aapl['MA10'] = aapl['Close'].rolling(10).mean()\n",
    "aapl['MA50'] = aapl['Close'].rolling(50).mean()\n",
    "aapl = aapl.dropna()\n",
    "aapl.head()"
   ]
  },
  {
   "cell_type": "code",
   "execution_count": 67,
   "id": "baaf577f",
   "metadata": {},
   "outputs": [],
   "source": [
    "#Add a new column \"Shares\", if MA10>MA50, denote as 1 (long one share of stock), otherwise, denote as 0 (do nothing)\n",
    "#Adicione uma nova coluna \"Ações\", se MA10>MA50, denotar como 1 (comprar uma ação), caso contrário, denotar como 0 (não fazer nada)\n",
    "\n",
    "aapl['Shares'] = [1 if aapl.loc[x, 'MA10']>aapl.loc[x, 'MA50'] else 0 for x in aapl.index]"
   ]
  },
  {
   "cell_type": "code",
   "execution_count": 68,
   "id": "0b10e507",
   "metadata": {},
   "outputs": [
    {
     "data": {
      "text/plain": [
       "<matplotlib.lines.Line2D at 0x1ee0fb5de20>"
      ]
     },
     "execution_count": 68,
     "metadata": {},
     "output_type": "execute_result"
    },
    {
     "data": {
      "image/png": "[encoded data removed]",
      "text/plain": [
       "<Figure size 432x288 with 1 Axes>"
      ]
     },
     "metadata": {
      "needs_background": "light"
     },
     "output_type": "display_data"
    }
   ],
   "source": [
    "#Add a new column \"Profit\" using List Comprehension, for any rows in fb, if Shares=1, the profit is calculated as the close price of \n",
    "#Adicione uma nova coluna \"Lucro\" usando a Compreensão da Lista, para qualquer linha em fb, se Ações=1, o lucro é calculado como o preço de fechamento\n",
    "\n",
    "#tomorrow - the close price of today. Otherwise the profit is 0.\n",
    "#amanhã - o preço de fechamento de hoje. Caso contrário, o lucro é 0.\n",
    "\n",
    "#Plot a graph to show the Profit/Loss\n",
    "\n",
    "#Plotar um gráfico para mostrar o lucro/prejuízo\n",
    "\n",
    "aapl['Close1'] = aapl['Close'].shift(-1)\n",
    "aapl['Profit'] = [aapl.loc[ei, 'Close1'] - aapl.loc[ei, 'Close'] if aapl.loc[ei, 'Shares']==1 else 0 for ei in aapl.index]\n",
    "aapl['Profit'].plot()\n",
    "plt.axhline(y=0, color='red')"
   ]
  },
  {
   "cell_type": "code",
   "execution_count": 69,
   "id": "34f887bd",
   "metadata": {},
   "outputs": [
    {
     "data": {
      "text/html": [
       "<div>\n",
       "<style scoped>\n",
       "    .dataframe tbody tr th:only-of-type {\n",
       "        vertical-align: middle;\n",
       "    }\n",
       "\n",
       "    .dataframe tbody tr th {\n",
       "        vertical-align: top;\n",
       "    }\n",
       "\n",
       "    .dataframe thead th {\n",
       "        text-align: right;\n",
       "    }\n",
       "</style>\n",
       "<table border=\"1\" class=\"dataframe\">\n",
       "  <thead>\n",
       "    <tr style=\"text-align: right;\">\n",
       "      <th></th>\n",
       "      <th>High</th>\n",
       "      <th>Low</th>\n",
       "      <th>Open</th>\n",
       "      <th>Close</th>\n",
       "      <th>Volume</th>\n",
       "      <th>Adj Close</th>\n",
       "      <th>MA10</th>\n",
       "      <th>MA50</th>\n",
       "      <th>Shares</th>\n",
       "      <th>Close1</th>\n",
       "      <th>Profit</th>\n",
       "      <th>wealth</th>\n",
       "    </tr>\n",
       "    <tr>\n",
       "      <th>Date</th>\n",
       "      <th></th>\n",
       "      <th></th>\n",
       "      <th></th>\n",
       "      <th></th>\n",
       "      <th></th>\n",
       "      <th></th>\n",
       "      <th></th>\n",
       "      <th></th>\n",
       "      <th></th>\n",
       "      <th></th>\n",
       "      <th></th>\n",
       "      <th></th>\n",
       "    </tr>\n",
       "  </thead>\n",
       "  <tbody>\n",
       "    <tr>\n",
       "      <th>2022-02-10</th>\n",
       "      <td>175.479996</td>\n",
       "      <td>171.550003</td>\n",
       "      <td>174.139999</td>\n",
       "      <td>172.119995</td>\n",
       "      <td>90865900.0</td>\n",
       "      <td>172.119995</td>\n",
       "      <td>173.573999</td>\n",
       "      <td>172.1204</td>\n",
       "      <td>1</td>\n",
       "      <td>168.639999</td>\n",
       "      <td>-3.479996</td>\n",
       "      <td>70.367489</td>\n",
       "    </tr>\n",
       "    <tr>\n",
       "      <th>2022-02-11</th>\n",
       "      <td>173.080002</td>\n",
       "      <td>168.039993</td>\n",
       "      <td>172.330002</td>\n",
       "      <td>168.639999</td>\n",
       "      <td>98566000.0</td>\n",
       "      <td>168.639999</td>\n",
       "      <td>173.404999</td>\n",
       "      <td>172.1978</td>\n",
       "      <td>1</td>\n",
       "      <td>168.880005</td>\n",
       "      <td>0.240005</td>\n",
       "      <td>70.607494</td>\n",
       "    </tr>\n",
       "    <tr>\n",
       "      <th>2022-02-14</th>\n",
       "      <td>169.580002</td>\n",
       "      <td>166.559998</td>\n",
       "      <td>167.369995</td>\n",
       "      <td>168.880005</td>\n",
       "      <td>86062800.0</td>\n",
       "      <td>168.880005</td>\n",
       "      <td>172.814999</td>\n",
       "      <td>172.3002</td>\n",
       "      <td>1</td>\n",
       "      <td>172.789993</td>\n",
       "      <td>3.909988</td>\n",
       "      <td>74.517483</td>\n",
       "    </tr>\n",
       "    <tr>\n",
       "      <th>2022-02-15</th>\n",
       "      <td>172.949997</td>\n",
       "      <td>170.250000</td>\n",
       "      <td>170.970001</td>\n",
       "      <td>172.789993</td>\n",
       "      <td>64286300.0</td>\n",
       "      <td>172.789993</td>\n",
       "      <td>172.632999</td>\n",
       "      <td>172.5192</td>\n",
       "      <td>1</td>\n",
       "      <td>172.899994</td>\n",
       "      <td>0.110001</td>\n",
       "      <td>74.627483</td>\n",
       "    </tr>\n",
       "    <tr>\n",
       "      <th>2022-02-16</th>\n",
       "      <td>173.335007</td>\n",
       "      <td>170.050003</td>\n",
       "      <td>171.850006</td>\n",
       "      <td>172.899994</td>\n",
       "      <td>45498638.0</td>\n",
       "      <td>172.899994</td>\n",
       "      <td>172.338998</td>\n",
       "      <td>172.6708</td>\n",
       "      <td>0</td>\n",
       "      <td>NaN</td>\n",
       "      <td>0.000000</td>\n",
       "      <td>74.627483</td>\n",
       "    </tr>\n",
       "  </tbody>\n",
       "</table>\n",
       "</div>"
      ],
      "text/plain": [
       "                  High         Low        Open       Close      Volume  \\\n",
       "Date                                                                     \n",
       "2022-02-10  175.479996  171.550003  174.139999  172.119995  90865900.0   \n",
       "2022-02-11  173.080002  168.039993  172.330002  168.639999  98566000.0   \n",
       "2022-02-14  169.580002  166.559998  167.369995  168.880005  86062800.0   \n",
       "2022-02-15  172.949997  170.250000  170.970001  172.789993  64286300.0   \n",
       "2022-02-16  173.335007  170.050003  171.850006  172.899994  45498638.0   \n",
       "\n",
       "             Adj Close        MA10      MA50  Shares      Close1    Profit  \\\n",
       "Date                                                                         \n",
       "2022-02-10  172.119995  173.573999  172.1204       1  168.639999 -3.479996   \n",
       "2022-02-11  168.639999  173.404999  172.1978       1  168.880005  0.240005   \n",
       "2022-02-14  168.880005  172.814999  172.3002       1  172.789993  3.909988   \n",
       "2022-02-15  172.789993  172.632999  172.5192       1  172.899994  0.110001   \n",
       "2022-02-16  172.899994  172.338998  172.6708       0         NaN  0.000000   \n",
       "\n",
       "               wealth  \n",
       "Date                   \n",
       "2022-02-10  70.367489  \n",
       "2022-02-11  70.607494  \n",
       "2022-02-14  74.517483  \n",
       "2022-02-15  74.627483  \n",
       "2022-02-16  74.627483  "
      ]
     },
     "execution_count": 69,
     "metadata": {},
     "output_type": "execute_result"
    }
   ],
   "source": [
    "#Use .cumsum() to calculate the accumulated wealth over the period\n",
    "#Use .cumsum() para calcular a riqueza acumulada no período\n",
    "\n",
    "aapl['wealth'] = aapl['Profit'].cumsum()\n",
    "aapl.tail()"
   ]
  },
  {
   "cell_type": "code",
   "execution_count": 70,
   "id": "748d198a",
   "metadata": {},
   "outputs": [
    {
     "data": {
      "text/plain": [
       "Text(0.5, 1.0, 'Total money you win is 74.62748336791992')"
      ]
     },
     "execution_count": 70,
     "metadata": {},
     "output_type": "execute_result"
    },
    {
     "data": {
      "image/png": "[encoded data removed]",
      "text/plain": [
       "<Figure size 432x288 with 1 Axes>"
      ]
     },
     "metadata": {
      "needs_background": "light"
     },
     "output_type": "display_data"
    }
   ],
   "source": [
    "#plot the wealth to show the growth of profit over the period\n",
    "#plotar a riqueza para mostrar o crescimento do lucro ao longo do período\n",
    "\n",
    "aapl['wealth'].plot()\n",
    "plt.title('Total money you win is {}'.format(aapl.loc[aapl.index[-2], 'wealth']))"
   ]
  },
  {
   "cell_type": "code",
   "execution_count": null,
   "id": "7e6868e6",
   "metadata": {},
   "outputs": [],
   "source": []
  }
 ],
 "metadata": {
  "kernelspec": {
   "display_name": "Python 3",
   "language": "python",
   "name": "python3"
  },
  "language_info": {
   "codemirror_mode": {
    "name": "ipython",
    "version": 3
   },
   "file_extension": ".py",
   "mimetype": "text/x-python",
   "name": "python",
   "nbconvert_exporter": "python",
   "pygments_lexer": "ipython3",
   "version": "3.8.8"
  }
 },
 "nbformat": 4,
 "nbformat_minor": 5
}
