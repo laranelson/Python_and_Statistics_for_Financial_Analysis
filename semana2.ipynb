{
 "cells": [
  {
   "cell_type": "code",
   "execution_count": 1,
   "id": "f22ce96a",
   "metadata": {},
   "outputs": [],
   "source": [
    "import pandas as pd\n",
    "import numpy as np\n",
    "import yfinance as yf\n",
    "import pandas_datareader as web\n",
    "import matplotlib.pyplot as plt\n",
    "%matplotlib inline\n"
   ]
  },
  {
   "cell_type": "code",
   "execution_count": 2,
   "id": "e9f94976",
   "metadata": {},
   "outputs": [],
   "source": [
    "# Obtenção de dados da Apple\n",
    "aapl = web.get_data_yahoo(\"AAPL\")"
   ]
  },
  {
   "cell_type": "code",
   "execution_count": 3,
   "id": "0532d2f2",
   "metadata": {},
   "outputs": [],
   "source": [
    "# let play around with Apple data by calculating the log daily return\n",
    "# vamos brincar com os dados do Apple calculando o retorno diário do log\n",
    "\n",
    "aapl['LogReturn'] = np.log(aapl['Close']).shift(-1) - np.log(aapl['Close'])"
   ]
  },
  {
   "cell_type": "code",
   "execution_count": 5,
   "id": "69971e25",
   "metadata": {},
   "outputs": [
    {
     "data": {
      "image/png": "[encoded data removed]",
      "text/plain": [
       "<Figure size 1080x576 with 1 Axes>"
      ]
     },
     "metadata": {
      "needs_background": "light"
     },
     "output_type": "display_data"
    }
   ],
   "source": [
    "# Plot a histogram to show the distribution of log return of Apple stock. \n",
    "# Plote um histograma para mostrar a distribuição do retorno de log das ações da Apple.\n",
    "\n",
    "# You can see it is very close to a normal distribution\n",
    "# Você pode ver que está muito próximo de uma distribuição normal\n",
    "\n",
    "from scipy.stats import norm\n",
    "mu = aapl['LogReturn'].mean()\n",
    "sigma = aapl['LogReturn'].std(ddof=1)\n",
    "\n",
    "density = pd.DataFrame()\n",
    "density['x'] = np.arange(aapl['LogReturn'].min()-0.01, aapl['LogReturn'].max()+0.01, 0.001)\n",
    "density['pdf'] = norm.pdf(density['x'], mu, sigma)\n",
    "\n",
    "aapl['LogReturn'].hist(bins=50, figsize=(15, 8))\n",
    "plt.plot(density['x'], density['pdf'], color='red')\n",
    "plt.show()"
   ]
  },
  {
   "cell_type": "code",
   "execution_count": 8,
   "id": "817cc035",
   "metadata": {},
   "outputs": [
    {
     "name": "stdout",
     "output_type": "stream",
     "text": [
      "The Probability is  0.004027472463291839\n"
     ]
    }
   ],
   "source": [
    "# probability that the stock price of apple will drop over 5% in a day\n",
    "# probabilidade de que o preço das ações da apple caia mais de 5% em um dia\n",
    "\n",
    "prob_return1 = norm.cdf(-0.05, mu, sigma)\n",
    "print('The Probability is ', prob_return1)"
   ]
  },
  {
   "cell_type": "markdown",
   "id": "b900de18",
   "metadata": {},
   "source": [
    "### Calculate the probability of the stock price will drop over a certain percentage in a year"
   ]
  },
  {
   "cell_type": "code",
   "execution_count": 9,
   "id": "b8672a6d",
   "metadata": {},
   "outputs": [
    {
     "name": "stdout",
     "output_type": "stream",
     "text": [
      "The probability of dropping over 40% in 220 days is  0.008568286713090383\n"
     ]
    }
   ],
   "source": [
    "# drop over 40% in 220 days\n",
    "# queda de mais de 40% em 220 dias\n",
    "\n",
    "mu220 = 220*mu\n",
    "sigma220 = (220**0.5) * sigma\n",
    "print('The probability of dropping over 40% in 220 days is ', norm.cdf(-0.4, mu220, sigma220))"
   ]
  },
  {
   "cell_type": "markdown",
   "id": "ad6493ab",
   "metadata": {},
   "source": [
    "### Calculate Value at risk (VaR)"
   ]
  },
  {
   "cell_type": "code",
   "execution_count": 10,
   "id": "bdd90fce",
   "metadata": {},
   "outputs": [
    {
     "name": "stdout",
     "output_type": "stream",
     "text": [
      "Single day value at risk  -0.030547508710859483\n"
     ]
    }
   ],
   "source": [
    "# Value at risk(VaR)\n",
    "# Valor em risco (VaR)\n",
    "\n",
    "VaR = norm.ppf(0.05, mu, sigma)\n",
    "print('Single day value at risk ', VaR)"
   ]
  },
  {
   "cell_type": "code",
   "execution_count": 11,
   "id": "5e0334ca",
   "metadata": {},
   "outputs": [
    {
     "name": "stdout",
     "output_type": "stream",
     "text": [
      "5% quantile  -0.030547508710859483\n",
      "95% quantile  0.033133180379285254\n"
     ]
    }
   ],
   "source": [
    "# Quatile\n",
    "# Quartil\n",
    "\n",
    "# 5% quantile\n",
    "print('5% quantile ', norm.ppf(0.05, mu, sigma))\n",
    "\n",
    "# 95% quantile\n",
    "print('95% quantile ', norm.ppf(0.95, mu, sigma))"
   ]
  },
  {
   "cell_type": "code",
   "execution_count": null,
   "id": "2602df2f",
   "metadata": {},
   "outputs": [],
   "source": []
  }
 ],
 "metadata": {
  "kernelspec": {
   "display_name": "Python 3",
   "language": "python",
   "name": "python3"
  },
  "language_info": {
   "codemirror_mode": {
    "name": "ipython",
    "version": 3
   },
   "file_extension": ".py",
   "mimetype": "text/x-python",
   "name": "python",
   "nbconvert_exporter": "python",
   "pygments_lexer": "ipython3",
   "version": "3.8.8"
  }
 },
 "nbformat": 4,
 "nbformat_minor": 5
}
